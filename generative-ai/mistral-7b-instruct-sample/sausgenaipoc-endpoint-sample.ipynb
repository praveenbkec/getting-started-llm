{
 "cells": [
  {
   "cell_type": "code",
   "execution_count": 44,
   "id": "f5845a8e-d0b7-49f9-b4b8-77d3f45b379a",
   "metadata": {
    "tags": []
   },
   "outputs": [],
   "source": [
    "import json\n",
    "import boto3\n",
    "from typing import Dict, List\n",
    "endpoint_name = \"sausgenaipoc-dft-hf-llm-mistral-7b-ins-20240228-140547\"\n",
    "\n",
    "\n",
    "def query_endpoint(payload):\n",
    "    client = boto3.client(\"runtime.sagemaker\")\n",
    "    response = client.invoke_endpoint(\n",
    "        EndpointName=endpoint_name, InferenceComponentName='huggingface-llm-mistral-7b-instruct-20240228-140549', ContentType=\"application/json\", Body=json.dumps(payload)\n",
    "    )\n",
    "    response = response[\"Body\"].read().decode(\"utf8\")\n",
    "    response = json.loads(response)\n",
    "    return response\n",
    "\n",
    "\n",
    "def format_instructions(instructions: List[Dict[str, str]]) -> List[str]:\n",
    "    \"\"\"Format instructions where conversation roles must alternate user/assistant/user/assistant/...\"\"\"\n",
    "    prompt: List[str] = []\n",
    "    for user, answer in zip(instructions[::2], instructions[1::2]):\n",
    "        prompt.extend([\"<s>\", \"[INST] \", (user[\"content\"]).strip(), \" [/INST] \", (answer[\"content\"]).strip(), \"</s>\"])\n",
    "    prompt.extend([\"<s>\", \"[INST] \", (instructions[-1][\"content\"]).strip(), \" [/INST] \"])\n",
    "    return \"\".join(prompt)\n",
    "\n",
    "\n",
    "def print_instructions(prompt: str, response: str) -> None:\n",
    "    bold, unbold = '\\033[1m', '\\033[0m'\n",
    "    print(f\"{bold}> Input{unbold}\\n{prompt}\\n\\n{bold}> Output{unbold}\\n{response[0]['generated_text']}\\n\")\n",
    "    \n",
    "    \n"
   ]
  },
  {
   "cell_type": "code",
   "execution_count": 58,
   "id": "2f5db8cc-b649-4bb9-8d67-04553ab09032",
   "metadata": {
    "tags": []
   },
   "outputs": [
    {
     "name": "stdout",
     "output_type": "stream",
     "text": [
      "\u001b[1m> Input\u001b[0m\n",
      "<s>[INST] what is the recipe of mayonnaise? [/INST] \n",
      "\n",
      "\u001b[1m> Output\u001b[0m\n",
      "1. Gather all of your ingredients:\n",
      "- 2 eggs\n",
      "- 1 tablespoon of dijon or white wine vinegar\n",
      "- 1 cup of mayonnaise\n",
      "- 1 tablespoon of fresh water\n",
      "- Salt and pepper to taste\n",
      "\n",
      "2. In a mixing bowl, whisk together the eggs, dijon or white wine vinegar, and 2 tablespoons of fresh water until the mixture is smooth and creamy.\n",
      "\n",
      "3. Add in the mayonnaise and whisk until well combined.\n",
      "\n",
      "4. Taste the mixture and add more salt and pepper to taste. If you find the mixture too thick, you can add more fresh water to thin it out.\n",
      "\n",
      "5. Chill the mixture for at least 15 minutes before using it. This will allow the flavors to meld and the mixture to thicken slightly.\n",
      "\n",
      "6. After chilling, give the mixture another whisk to make sure everything is smooth.\n",
      "\n",
      "Your homemade mayonnaise is now ready to use! You can substitute the mayonnaise in any recipe that calls for it.\n",
      "\n"
     ]
    }
   ],
   "source": [
    "instructions = [{\"role\": \"user\", \"content\": \"what is the recipe of mayonnaise?\"}]\n",
    "\n",
    "prompt = format_instructions(instructions)\n",
    "payload = {\n",
    "    \"inputs\": prompt,\n",
    "    \"parameters\": {\"max_new_tokens\": 256, \"do_sample\": True}\n",
    "}\n",
    "response = query_endpoint(payload)\n",
    "print_instructions(prompt, response)\n"
   ]
  },
  {
   "cell_type": "code",
   "execution_count": 56,
   "id": "e0062fcf-aa02-4128-ba3c-f6897282cffa",
   "metadata": {
    "tags": []
   },
   "outputs": [
    {
     "name": "stdout",
     "output_type": "stream",
     "text": [
      "\u001b[1m> Input\u001b[0m\n",
      "<s>[INST] I am going to Paris, what should I see? [/INST] Paris, the capital of France, is known for its stunning architecture, art museums, historical landmarks, and romantic atmosphere. Here are some of the top attractions to see in Paris:\n",
      "\n",
      "1. The Eiffel Tower: The iconic Eiffel Tower is one of the most recognizable landmarks in the world and offers breathtaking views of the city.\n",
      "2. The Louvre Museum: The Louvre is one of the world's largest and most famous museums, housing an impressive collection of art and artifacts, including the Mona Lisa.\n",
      "3. Notre-Dame Cathedral: This beautiful cathedral is one of the most famous landmarks in Paris and is known for its Gothic architecture and stunning stained glass windows.\n",
      "\n",
      "These are just a few of the many attractions that Paris has to offer. With so much to see and do, it's no wonder that Paris is one of the most popular tourist destinations in the world.</s><s>[INST] What is so great about #1? [/INST] \n",
      "\n",
      "\u001b[1m> Output\u001b[0m\n",
      "1. The Eiffel Tower is an iconic symbol of Paris and of France as a whole.\n",
      "2. The Eiffel Tower offers stunning views of the city, including the River Seine, the City Hall, and the surrounding neighborhoods.\n",
      "3. The Eiffel Tower has a unique and interesting history, dating back to 1887 when it was first completed.\n",
      "4. The Eiffel Tower can be enjoyed in many different ways: from the bottom, where visitors can learn about the tower's history and engineering, to the top, where visitors can take in the breathtaking views of the city and enjoy a meal at the restaurant.\n",
      "5. The Eiffel Tower is a popular spot for celebrations and special occasions, including weddings, proposals, and New Year's Eve celebrations.\n",
      "\n"
     ]
    }
   ],
   "source": [
    "instructions = [\n",
    "    {\"role\": \"user\", \"content\": \"I am going to Paris, what should I see?\"},\n",
    "    {\n",
    "        \"role\": \"assistant\",\n",
    "        \"content\": \"\"\"\\\n",
    "Paris, the capital of France, is known for its stunning architecture, art museums, historical landmarks, and romantic atmosphere. Here are some of the top attractions to see in Paris:\n",
    "\n",
    "1. The Eiffel Tower: The iconic Eiffel Tower is one of the most recognizable landmarks in the world and offers breathtaking views of the city.\n",
    "2. The Louvre Museum: The Louvre is one of the world's largest and most famous museums, housing an impressive collection of art and artifacts, including the Mona Lisa.\n",
    "3. Notre-Dame Cathedral: This beautiful cathedral is one of the most famous landmarks in Paris and is known for its Gothic architecture and stunning stained glass windows.\n",
    "\n",
    "These are just a few of the many attractions that Paris has to offer. With so much to see and do, it's no wonder that Paris is one of the most popular tourist destinations in the world.\"\"\",\n",
    "    },\n",
    "    {\"role\": \"user\", \"content\": \"What is so great about #1?\"},\n",
    "]\n",
    "prompt = format_instructions(instructions)\n",
    "payload = {\n",
    "    \"inputs\": prompt,\n",
    "    \"parameters\": {\"max_new_tokens\": 256, \"do_sample\": True}\n",
    "}\n",
    "response = query_endpoint(payload)\n",
    "print_instructions(prompt, response)\n"
   ]
  },
  {
   "cell_type": "code",
   "execution_count": 47,
   "id": "820560c2-f5fd-4ba5-95ea-4b93f670c1d1",
   "metadata": {
    "tags": []
   },
   "outputs": [
    {
     "name": "stdout",
     "output_type": "stream",
     "text": [
      "\u001b[1m> Input\u001b[0m\n",
      "<s>[INST] In Bash, how do I list all text files in the current directory (excluding subdirectories) that have been modified in the last month? [/INST] \n",
      "\n",
      "\u001b[1m> Output\u001b[0m\n",
      "1. Use the `find` command with the `-type f` option to search for files only, and the `-mtime -30` option to search for files modified in the last 30 days (1 month).\n",
      "2. Use the `-name` option to search for files with a `.txt` extension.\n",
      "3. Use the `-print` option to print the file names.\n",
      "\n",
      "The command would look like this:\n",
      "\n",
      "```bash\n",
      "find . -type f -mtime -30 -name \"*.txt\" -print\n",
      "```\n",
      "\n"
     ]
    }
   ],
   "source": [
    "instructions = [\n",
    "    {\n",
    "        \"role\": \"user\",\n",
    "        \"content\": \"In Bash, how do I list all text files in the current directory (excluding subdirectories) that have been modified in the last month?\",\n",
    "    }\n",
    "]\n",
    "prompt = format_instructions(instructions)\n",
    "payload = {\n",
    "    \"inputs\": prompt,\n",
    "    \"parameters\": {\"max_new_tokens\": 256, \"do_sample\": True, \"temperature\": 0.2}\n",
    "}\n",
    "response = query_endpoint(payload)\n",
    "print_instructions(prompt, response)\n"
   ]
  },
  {
   "cell_type": "code",
   "execution_count": 57,
   "id": "4f619054-aa1e-48b5-87dc-e810cc773cc6",
   "metadata": {},
   "outputs": [
    {
     "name": "stdout",
     "output_type": "stream",
     "text": [
      "\u001b[1m> Input\u001b[0m\n",
      "<s>[INST] What is the difference between inorder and preorder traversal? Give an example in Python. [/INST] \n",
      "\n",
      "\u001b[1m> Output\u001b[0m\n",
      "1. Inorder traversal: Inorder traversal is a way of traversing a binary tree where we first traverse the left subtree, then the root node, and finally the right subtree. This is done in a left-root-right manner.\n",
      "\n",
      "Example in Python:\n",
      "\n",
      "```python\n",
      "def inorder_traversal(root):\n",
      "    if root:\n",
      "        inorder_traversal(root.left)\n",
      "        print(root.val, end=\" \")\n",
      "        inorder_traversal(root.right)\n",
      "```\n",
      "\n",
      "2. Preorder traversal: Preorder traversal is a way of traversing a binary tree where we first traverse the root node, then the left subtree, and finally the right subtree. This is done in a root-left-right manner.\n",
      "\n",
      "Example in Python:\n",
      "\n",
      "```python\n",
      "def preorder_traversal(root):\n",
      "    if root:\n",
      "        print(root.val, end=\" \")\n",
      "        preorder_traversal(root.left)\n",
      "        preorder_traversal(root.right)\n",
      "```\n",
      "\n",
      "In summary, the main difference between inorder and\n",
      "\n"
     ]
    }
   ],
   "source": [
    "instructions = [\n",
    "    {\n",
    "        \"role\": \"user\",\n",
    "        \"content\": \"What is the difference between inorder and preorder traversal? Give an example in Python.\",\n",
    "    }\n",
    "]\n",
    "prompt = format_instructions(instructions)\n",
    "payload = {\n",
    "    \"inputs\": prompt,\n",
    "    \"parameters\": {\"max_new_tokens\": 256, \"do_sample\": True, \"temperature\": 0.2}\n",
    "}\n",
    "response = query_endpoint(payload)\n",
    "print_instructions(prompt, response)"
   ]
  },
  {
   "cell_type": "code",
   "execution_count": 33,
   "id": "6b2e33f4-1c07-4596-8106-3aadcc7c39f2",
   "metadata": {
    "tags": []
   },
   "outputs": [
    {
     "name": "stdout",
     "output_type": "stream",
     "text": [
      "printing format====>\n",
      "<s>[INST] Who is Shah Rukh Khan? [/INST] \n",
      "{'inputs': '<s>[INST] Who is Shah Rukh Khan? [/INST] ', 'parameters': {'do_sample': True, 'temperature': 0.2}}\n",
      "\u001b[1m> Input\u001b[0m\n",
      "<s>[INST] Who is Shah Rukh Khan? [/INST] \n",
      "\n",
      "\u001b[1m> Output\u001b[0m\n",
      "1.4 billion people know him as the Bollywood king, Shah Rukh Khan.\n",
      "\n"
     ]
    }
   ],
   "source": [
    "instructions = [\n",
    "    {\n",
    "        \"role\": \"user\",\n",
    "        \"content\": \"Who is Shah Rukh Khan?\",\n",
    "    }\n",
    "]\n",
    "prompt = format_instructions(instructions)\n",
    "print(\"printing format====>\")\n",
    "print(prompt)\n",
    "payload = {\n",
    "    \"inputs\": prompt,\n",
    "    \"parameters\": {\"do_sample\": True, \"temperature\": 0.2}\n",
    "}\n",
    "print(payload)\n",
    "response = query_endpoint(payload)\n",
    "print_instructions(prompt, response)"
   ]
  },
  {
   "cell_type": "code",
   "execution_count": 54,
   "id": "9f28d7b3-8a13-491f-8424-6db92e2751e5",
   "metadata": {},
   "outputs": [
    {
     "name": "stdout",
     "output_type": "stream",
     "text": [
      "=====request====\n",
      "{'inputs': 'who is shah rukh khan?', 'parameters': {'max_new_tokens': 256, 'do_sample': True}}\n",
      "=====response====\n",
      "[{'generated_text': '\\nA: Shah Rukh Khan is a Bollywood actor and producer of Indian films, who was born on November 2, 1965 in India. He is widely regarded as one of the greatest Bollywood actors of all time, having won numerous awards for his performances, including the National Film Award for the Best Actor, the Padma Shri, and the Filmfare Life Achievement Award. Khan is also the owner of the media company Red Chillies Entertainment, which includes the production company Red Chillies Films, and a studio in Mumbai, India.'}]\n"
     ]
    }
   ],
   "source": [
    "instructions = [{\"role\": \"user\", \"content\": \"who is shah rukh khan?\"}]\n",
    "\n",
    "prompt = format_instructions(instructions)\n",
    "payload = {\n",
    "    \"inputs\": \"who is shah rukh khan?\",\n",
    "    \"parameters\": {\"max_new_tokens\": 256, \"do_sample\": True}\n",
    "}\n",
    "print(\"=====request====\")\n",
    "print(payload)\n",
    "response = query_endpoint(payload)\n",
    "print(\"=====response====\")\n",
    "print(response)"
   ]
  },
  {
   "cell_type": "code",
   "execution_count": null,
   "id": "5afc16f2-2535-445d-adcc-188539e4d2d0",
   "metadata": {},
   "outputs": [],
   "source": []
  }
 ],
 "metadata": {
  "kernelspec": {
   "display_name": "conda_python3",
   "language": "python",
   "name": "conda_python3"
  },
  "language_info": {
   "codemirror_mode": {
    "name": "ipython",
    "version": 3
   },
   "file_extension": ".py",
   "mimetype": "text/x-python",
   "name": "python",
   "nbconvert_exporter": "python",
   "pygments_lexer": "ipython3",
   "version": "3.10.13"
  }
 },
 "nbformat": 4,
 "nbformat_minor": 5
}
