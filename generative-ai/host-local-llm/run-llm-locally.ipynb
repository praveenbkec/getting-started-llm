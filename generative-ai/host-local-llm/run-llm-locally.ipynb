{
 "cells": [
  {
   "cell_type": "code",
   "execution_count": 10,
   "metadata": {},
   "outputs": [
    {
     "name": "stdout",
     "output_type": "stream",
     "text": [
      "Requirement already satisfied: torch in /Users/kmpraveen/office/workspace/genai/getting-started-llm/.venv/lib/python3.9/site-packages (2.2.1)\n",
      "Requirement already satisfied: torchvision in /Users/kmpraveen/office/workspace/genai/getting-started-llm/.venv/lib/python3.9/site-packages (0.17.1)\n",
      "Requirement already satisfied: filelock in /Users/kmpraveen/office/workspace/genai/getting-started-llm/.venv/lib/python3.9/site-packages (from torch) (3.13.1)\n",
      "Requirement already satisfied: typing-extensions>=4.8.0 in /Users/kmpraveen/office/workspace/genai/getting-started-llm/.venv/lib/python3.9/site-packages (from torch) (4.10.0)\n",
      "Requirement already satisfied: sympy in /Users/kmpraveen/office/workspace/genai/getting-started-llm/.venv/lib/python3.9/site-packages (from torch) (1.12)\n",
      "Requirement already satisfied: networkx in /Users/kmpraveen/office/workspace/genai/getting-started-llm/.venv/lib/python3.9/site-packages (from torch) (3.2.1)\n",
      "Requirement already satisfied: jinja2 in /Users/kmpraveen/office/workspace/genai/getting-started-llm/.venv/lib/python3.9/site-packages (from torch) (3.1.3)\n",
      "Requirement already satisfied: fsspec in /Users/kmpraveen/office/workspace/genai/getting-started-llm/.venv/lib/python3.9/site-packages (from torch) (2024.3.1)\n",
      "Requirement already satisfied: numpy in /Users/kmpraveen/office/workspace/genai/getting-started-llm/.venv/lib/python3.9/site-packages (from torchvision) (1.26.4)\n",
      "Requirement already satisfied: pillow!=8.3.*,>=5.3.0 in /Users/kmpraveen/office/workspace/genai/getting-started-llm/.venv/lib/python3.9/site-packages (from torchvision) (10.2.0)\n",
      "Requirement already satisfied: MarkupSafe>=2.0 in /Users/kmpraveen/office/workspace/genai/getting-started-llm/.venv/lib/python3.9/site-packages (from jinja2->torch) (2.1.5)\n",
      "Requirement already satisfied: mpmath>=0.19 in /Users/kmpraveen/office/workspace/genai/getting-started-llm/.venv/lib/python3.9/site-packages (from sympy->torch) (1.3.0)\n",
      "Note: you may need to restart the kernel to use updated packages.\n"
     ]
    }
   ],
   "source": [
    "pip install torch torchvision"
   ]
  },
  {
   "cell_type": "code",
   "execution_count": 11,
   "metadata": {},
   "outputs": [
    {
     "name": "stdout",
     "output_type": "stream",
     "text": [
      "^C\n",
      "Traceback (most recent call last):\n",
      "  File \"/Applications/Xcode.app/Contents/Developer/Library/Frameworks/Python3.framework/Versions/3.9/lib/python3.9/runpy.py\", line 197, in _run_module_as_main\n",
      "    return _run_code(code, main_globals, None,\n",
      "  File \"/Applications/Xcode.app/Contents/Developer/Library/Frameworks/Python3.framework/Versions/3.9/lib/python3.9/runpy.py\", line 87, in _run_code\n",
      "    exec(code, run_globals)\n",
      "  File \"/Users/kmpraveen/office/workspace/genai/getting-started-llm/.venv/lib/python3.9/site-packages/pip/__main__.py\", line 22, in <module>\n",
      "    from pip._internal.cli.main import main as _main\n",
      "  File \"/Users/kmpraveen/office/workspace/genai/getting-started-llm/.venv/lib/python3.9/site-packages/pip/_internal/cli/main.py\", line 10, in <module>\n",
      "    from pip._internal.cli.autocompletion import autocomplete\n",
      "  File \"/Users/kmpraveen/office/workspace/genai/getting-started-llm/.venv/lib/python3.9/site-packages/pip/_internal/cli/autocompletion.py\", line 10, in <module>\n",
      "    from pip._internal.cli.main_parser import create_main_parser\n",
      "  File \"/Users/kmpraveen/office/workspace/genai/getting-started-llm/.venv/lib/python3.9/site-packages/pip/_internal/cli/main_parser.py\", line 9, in <module>\n",
      "    from pip._internal.build_env import get_runnable_pip\n",
      "  File \"/Users/kmpraveen/office/workspace/genai/getting-started-llm/.venv/lib/python3.9/site-packages/pip/_internal/build_env.py\", line 14, in <module>\n",
      "    from pip._vendor.certifi import where\n",
      "  File \"/Users/kmpraveen/office/workspace/genai/getting-started-llm/.venv/lib/python3.9/site-packages/pip/_vendor/certifi/__init__.py\", line 1, in <module>\n",
      "    from .core import contents, where\n",
      "  File \"/Users/kmpraveen/office/workspace/genai/getting-started-llm/.venv/lib/python3.9/site-packages/pip/_vendor/certifi/core.py\", line 46, in <module>\n",
      "    from importlib.resources import path as get_path, read_text\n",
      "  File \"/Applications/Xcode.app/Contents/Developer/Library/Frameworks/Python3.framework/Versions/3.9/lib/python3.9/importlib/resources.py\", line 4, in <module>\n",
      "    from . import _common\n",
      "  File \"/Applications/Xcode.app/Contents/Developer/Library/Frameworks/Python3.framework/Versions/3.9/lib/python3.9/importlib/_common.py\", line 4, in <module>\n",
      "    import tempfile\n",
      "  File \"/Applications/Xcode.app/Contents/Developer/Library/Frameworks/Python3.framework/Versions/3.9/lib/python3.9/tempfile.py\", line 45, in <module>\n",
      "    from random import Random as _Random\n",
      "  File \"/Applications/Xcode.app/Contents/Developer/Library/Frameworks/Python3.framework/Versions/3.9/lib/python3.9/random.py\", line 55, in <module>\n",
      "    from bisect import bisect as _bisect\n",
      "  File \"/Applications/Xcode.app/Contents/Developer/Library/Frameworks/Python3.framework/Versions/3.9/lib/python3.9/bisect.py\", line 74, in <module>\n",
      "    from _bisect import *\n",
      "KeyboardInterrupt\n",
      "Note: you may need to restart the kernel to use updated packages.\n"
     ]
    }
   ],
   "source": [
    " pip install -q transformers"
   ]
  },
  {
   "cell_type": "code",
   "execution_count": null,
   "metadata": {},
   "outputs": [
    {
     "name": "stdout",
     "output_type": "stream",
     "text": [
      "Requirement already satisfied: ctransformers in /Users/kmpraveen/office/workspace/genai/getting-started-llm/.venv/lib/python3.9/site-packages (0.2.27)\n",
      "Requirement already satisfied: huggingface-hub in /Users/kmpraveen/office/workspace/genai/getting-started-llm/.venv/lib/python3.9/site-packages (from ctransformers) (0.21.4)\n",
      "Requirement already satisfied: py-cpuinfo<10.0.0,>=9.0.0 in /Users/kmpraveen/office/workspace/genai/getting-started-llm/.venv/lib/python3.9/site-packages (from ctransformers) (9.0.0)\n",
      "Requirement already satisfied: filelock in /Users/kmpraveen/office/workspace/genai/getting-started-llm/.venv/lib/python3.9/site-packages (from huggingface-hub->ctransformers) (3.13.1)\n",
      "Requirement already satisfied: fsspec>=2023.5.0 in /Users/kmpraveen/office/workspace/genai/getting-started-llm/.venv/lib/python3.9/site-packages (from huggingface-hub->ctransformers) (2024.3.1)\n",
      "Requirement already satisfied: requests in /Users/kmpraveen/office/workspace/genai/getting-started-llm/.venv/lib/python3.9/site-packages (from huggingface-hub->ctransformers) (2.31.0)\n",
      "Requirement already satisfied: tqdm>=4.42.1 in /Users/kmpraveen/office/workspace/genai/getting-started-llm/.venv/lib/python3.9/site-packages (from huggingface-hub->ctransformers) (4.66.2)\n",
      "Requirement already satisfied: pyyaml>=5.1 in /Users/kmpraveen/office/workspace/genai/getting-started-llm/.venv/lib/python3.9/site-packages (from huggingface-hub->ctransformers) (6.0.1)\n",
      "Requirement already satisfied: typing-extensions>=3.7.4.3 in /Users/kmpraveen/office/workspace/genai/getting-started-llm/.venv/lib/python3.9/site-packages (from huggingface-hub->ctransformers) (4.10.0)\n",
      "Requirement already satisfied: packaging>=20.9 in /Users/kmpraveen/office/workspace/genai/getting-started-llm/.venv/lib/python3.9/site-packages (from huggingface-hub->ctransformers) (23.2)\n",
      "Requirement already satisfied: charset-normalizer<4,>=2 in /Users/kmpraveen/office/workspace/genai/getting-started-llm/.venv/lib/python3.9/site-packages (from requests->huggingface-hub->ctransformers) (3.3.2)\n",
      "Requirement already satisfied: idna<4,>=2.5 in /Users/kmpraveen/office/workspace/genai/getting-started-llm/.venv/lib/python3.9/site-packages (from requests->huggingface-hub->ctransformers) (3.6)\n",
      "Requirement already satisfied: urllib3<3,>=1.21.1 in /Users/kmpraveen/office/workspace/genai/getting-started-llm/.venv/lib/python3.9/site-packages (from requests->huggingface-hub->ctransformers) (2.2.1)\n",
      "Requirement already satisfied: certifi>=2017.4.17 in /Users/kmpraveen/office/workspace/genai/getting-started-llm/.venv/lib/python3.9/site-packages (from requests->huggingface-hub->ctransformers) (2024.2.2)\n",
      "Note: you may need to restart the kernel to use updated packages.\n"
     ]
    }
   ],
   "source": [
    "pip install ctransformers"
   ]
  },
  {
   "cell_type": "code",
   "execution_count": null,
   "metadata": {},
   "outputs": [
    {
     "name": "stdout",
     "output_type": "stream",
     "text": [
      "Requirement already satisfied: langchain in /Users/kmpraveen/office/workspace/genai/getting-started-llm/.venv/lib/python3.9/site-packages (0.1.13)\n",
      "Requirement already satisfied: PyYAML>=5.3 in /Users/kmpraveen/office/workspace/genai/getting-started-llm/.venv/lib/python3.9/site-packages (from langchain) (6.0.1)\n",
      "Requirement already satisfied: SQLAlchemy<3,>=1.4 in /Users/kmpraveen/office/workspace/genai/getting-started-llm/.venv/lib/python3.9/site-packages (from langchain) (2.0.28)\n",
      "Requirement already satisfied: aiohttp<4.0.0,>=3.8.3 in /Users/kmpraveen/office/workspace/genai/getting-started-llm/.venv/lib/python3.9/site-packages (from langchain) (3.9.3)\n",
      "Requirement already satisfied: async-timeout<5.0.0,>=4.0.0 in /Users/kmpraveen/office/workspace/genai/getting-started-llm/.venv/lib/python3.9/site-packages (from langchain) (4.0.3)\n",
      "Requirement already satisfied: dataclasses-json<0.7,>=0.5.7 in /Users/kmpraveen/office/workspace/genai/getting-started-llm/.venv/lib/python3.9/site-packages (from langchain) (0.6.4)\n",
      "Requirement already satisfied: jsonpatch<2.0,>=1.33 in /Users/kmpraveen/office/workspace/genai/getting-started-llm/.venv/lib/python3.9/site-packages (from langchain) (1.33)\n",
      "Requirement already satisfied: langchain-community<0.1,>=0.0.29 in /Users/kmpraveen/office/workspace/genai/getting-started-llm/.venv/lib/python3.9/site-packages (from langchain) (0.0.29)\n",
      "Requirement already satisfied: langchain-core<0.2.0,>=0.1.33 in /Users/kmpraveen/office/workspace/genai/getting-started-llm/.venv/lib/python3.9/site-packages (from langchain) (0.1.33)\n",
      "Requirement already satisfied: langchain-text-splitters<0.1,>=0.0.1 in /Users/kmpraveen/office/workspace/genai/getting-started-llm/.venv/lib/python3.9/site-packages (from langchain) (0.0.1)\n",
      "Requirement already satisfied: langsmith<0.2.0,>=0.1.17 in /Users/kmpraveen/office/workspace/genai/getting-started-llm/.venv/lib/python3.9/site-packages (from langchain) (0.1.31)\n",
      "Requirement already satisfied: numpy<2,>=1 in /Users/kmpraveen/office/workspace/genai/getting-started-llm/.venv/lib/python3.9/site-packages (from langchain) (1.26.4)\n",
      "Requirement already satisfied: pydantic<3,>=1 in /Users/kmpraveen/office/workspace/genai/getting-started-llm/.venv/lib/python3.9/site-packages (from langchain) (2.6.4)\n",
      "Requirement already satisfied: requests<3,>=2 in /Users/kmpraveen/office/workspace/genai/getting-started-llm/.venv/lib/python3.9/site-packages (from langchain) (2.31.0)\n",
      "Requirement already satisfied: tenacity<9.0.0,>=8.1.0 in /Users/kmpraveen/office/workspace/genai/getting-started-llm/.venv/lib/python3.9/site-packages (from langchain) (8.2.3)\n",
      "Requirement already satisfied: aiosignal>=1.1.2 in /Users/kmpraveen/office/workspace/genai/getting-started-llm/.venv/lib/python3.9/site-packages (from aiohttp<4.0.0,>=3.8.3->langchain) (1.3.1)\n",
      "Requirement already satisfied: attrs>=17.3.0 in /Users/kmpraveen/office/workspace/genai/getting-started-llm/.venv/lib/python3.9/site-packages (from aiohttp<4.0.0,>=3.8.3->langchain) (23.2.0)\n",
      "Requirement already satisfied: frozenlist>=1.1.1 in /Users/kmpraveen/office/workspace/genai/getting-started-llm/.venv/lib/python3.9/site-packages (from aiohttp<4.0.0,>=3.8.3->langchain) (1.4.1)\n",
      "Requirement already satisfied: multidict<7.0,>=4.5 in /Users/kmpraveen/office/workspace/genai/getting-started-llm/.venv/lib/python3.9/site-packages (from aiohttp<4.0.0,>=3.8.3->langchain) (6.0.5)\n",
      "Requirement already satisfied: yarl<2.0,>=1.0 in /Users/kmpraveen/office/workspace/genai/getting-started-llm/.venv/lib/python3.9/site-packages (from aiohttp<4.0.0,>=3.8.3->langchain) (1.9.4)\n",
      "Requirement already satisfied: marshmallow<4.0.0,>=3.18.0 in /Users/kmpraveen/office/workspace/genai/getting-started-llm/.venv/lib/python3.9/site-packages (from dataclasses-json<0.7,>=0.5.7->langchain) (3.21.1)\n",
      "Requirement already satisfied: typing-inspect<1,>=0.4.0 in /Users/kmpraveen/office/workspace/genai/getting-started-llm/.venv/lib/python3.9/site-packages (from dataclasses-json<0.7,>=0.5.7->langchain) (0.9.0)\n",
      "Requirement already satisfied: jsonpointer>=1.9 in /Users/kmpraveen/office/workspace/genai/getting-started-llm/.venv/lib/python3.9/site-packages (from jsonpatch<2.0,>=1.33->langchain) (2.4)\n",
      "Requirement already satisfied: anyio<5,>=3 in /Users/kmpraveen/office/workspace/genai/getting-started-llm/.venv/lib/python3.9/site-packages (from langchain-core<0.2.0,>=0.1.33->langchain) (4.3.0)\n",
      "Requirement already satisfied: packaging<24.0,>=23.2 in /Users/kmpraveen/office/workspace/genai/getting-started-llm/.venv/lib/python3.9/site-packages (from langchain-core<0.2.0,>=0.1.33->langchain) (23.2)\n",
      "Requirement already satisfied: orjson<4.0.0,>=3.9.14 in /Users/kmpraveen/office/workspace/genai/getting-started-llm/.venv/lib/python3.9/site-packages (from langsmith<0.2.0,>=0.1.17->langchain) (3.9.15)\n",
      "Requirement already satisfied: annotated-types>=0.4.0 in /Users/kmpraveen/office/workspace/genai/getting-started-llm/.venv/lib/python3.9/site-packages (from pydantic<3,>=1->langchain) (0.6.0)\n",
      "Requirement already satisfied: pydantic-core==2.16.3 in /Users/kmpraveen/office/workspace/genai/getting-started-llm/.venv/lib/python3.9/site-packages (from pydantic<3,>=1->langchain) (2.16.3)\n",
      "Requirement already satisfied: typing-extensions>=4.6.1 in /Users/kmpraveen/office/workspace/genai/getting-started-llm/.venv/lib/python3.9/site-packages (from pydantic<3,>=1->langchain) (4.10.0)\n",
      "Requirement already satisfied: charset-normalizer<4,>=2 in /Users/kmpraveen/office/workspace/genai/getting-started-llm/.venv/lib/python3.9/site-packages (from requests<3,>=2->langchain) (3.3.2)\n",
      "Requirement already satisfied: idna<4,>=2.5 in /Users/kmpraveen/office/workspace/genai/getting-started-llm/.venv/lib/python3.9/site-packages (from requests<3,>=2->langchain) (3.6)\n",
      "Requirement already satisfied: urllib3<3,>=1.21.1 in /Users/kmpraveen/office/workspace/genai/getting-started-llm/.venv/lib/python3.9/site-packages (from requests<3,>=2->langchain) (2.2.1)\n",
      "Requirement already satisfied: certifi>=2017.4.17 in /Users/kmpraveen/office/workspace/genai/getting-started-llm/.venv/lib/python3.9/site-packages (from requests<3,>=2->langchain) (2024.2.2)\n",
      "Requirement already satisfied: greenlet!=0.4.17 in /Users/kmpraveen/office/workspace/genai/getting-started-llm/.venv/lib/python3.9/site-packages (from SQLAlchemy<3,>=1.4->langchain) (3.0.3)\n",
      "Requirement already satisfied: sniffio>=1.1 in /Users/kmpraveen/office/workspace/genai/getting-started-llm/.venv/lib/python3.9/site-packages (from anyio<5,>=3->langchain-core<0.2.0,>=0.1.33->langchain) (1.3.1)\n",
      "Requirement already satisfied: exceptiongroup>=1.0.2 in /Users/kmpraveen/office/workspace/genai/getting-started-llm/.venv/lib/python3.9/site-packages (from anyio<5,>=3->langchain-core<0.2.0,>=0.1.33->langchain) (1.2.0)\n",
      "Requirement already satisfied: mypy-extensions>=0.3.0 in /Users/kmpraveen/office/workspace/genai/getting-started-llm/.venv/lib/python3.9/site-packages (from typing-inspect<1,>=0.4.0->dataclasses-json<0.7,>=0.5.7->langchain) (1.0.0)\n",
      "Note: you may need to restart the kernel to use updated packages.\n"
     ]
    }
   ],
   "source": [
    "pip install langchain"
   ]
  },
  {
   "cell_type": "code",
   "execution_count": null,
   "metadata": {},
   "outputs": [
    {
     "name": "stdout",
     "output_type": "stream",
     "text": [
      "Requirement already satisfied: Flask in /Users/kmpraveen/office/workspace/genai/getting-started-llm/.venv/lib/python3.9/site-packages (3.0.2)\n",
      "Requirement already satisfied: Werkzeug>=3.0.0 in /Users/kmpraveen/office/workspace/genai/getting-started-llm/.venv/lib/python3.9/site-packages (from Flask) (3.0.1)\n",
      "Requirement already satisfied: Jinja2>=3.1.2 in /Users/kmpraveen/office/workspace/genai/getting-started-llm/.venv/lib/python3.9/site-packages (from Flask) (3.1.3)\n",
      "Requirement already satisfied: itsdangerous>=2.1.2 in /Users/kmpraveen/office/workspace/genai/getting-started-llm/.venv/lib/python3.9/site-packages (from Flask) (2.1.2)\n",
      "Requirement already satisfied: click>=8.1.3 in /Users/kmpraveen/office/workspace/genai/getting-started-llm/.venv/lib/python3.9/site-packages (from Flask) (8.1.7)\n",
      "Requirement already satisfied: blinker>=1.6.2 in /Users/kmpraveen/office/workspace/genai/getting-started-llm/.venv/lib/python3.9/site-packages (from Flask) (1.7.0)\n",
      "Requirement already satisfied: importlib-metadata>=3.6.0 in /Users/kmpraveen/office/workspace/genai/getting-started-llm/.venv/lib/python3.9/site-packages (from Flask) (7.1.0)\n",
      "Requirement already satisfied: zipp>=0.5 in /Users/kmpraveen/office/workspace/genai/getting-started-llm/.venv/lib/python3.9/site-packages (from importlib-metadata>=3.6.0->Flask) (3.18.1)\n",
      "Requirement already satisfied: MarkupSafe>=2.0 in /Users/kmpraveen/office/workspace/genai/getting-started-llm/.venv/lib/python3.9/site-packages (from Jinja2>=3.1.2->Flask) (2.1.5)\n",
      "Note: you may need to restart the kernel to use updated packages.\n"
     ]
    }
   ],
   "source": [
    "pip install Flask"
   ]
  },
  {
   "cell_type": "code",
   "execution_count": 14,
   "metadata": {},
   "outputs": [],
   "source": [
    "from langchain.llms import CTransformers\n",
    "from langchain.prompts import PromptTemplate"
   ]
  },
  {
   "cell_type": "code",
   "execution_count": 20,
   "metadata": {},
   "outputs": [],
   "source": [
    "\n",
    "\n",
    "def load_model():\n",
    "    global llm_model\n",
    "    print(\"=== load model is initialised ===\")\n",
    "    # download model file from huggingface repo using URL: https://huggingface.co/BashitAli/llama-2-7b-chat.ggmlv3.q5_K_M and copy to folder model\n",
    "    llm_model = CTransformers(model = \"model/BasgitAli-llama-2-7b-chat/pytorch_model.bin\",\n",
    "                        model_type = 'llama',\n",
    "                        config={'max_new_tokens': 256,\n",
    "                                'temperature': 0.01})\n",
    "    \n"
   ]
  },
  {
   "cell_type": "code",
   "execution_count": 23,
   "metadata": {},
   "outputs": [
    {
     "name": "stdout",
     "output_type": "stream",
     "text": [
      "=== load model is initialised ===\n",
      "\n",
      "\n",
      "Why did the math book look so sad? Because it had too many problems!\n"
     ]
    }
   ],
   "source": [
    "load_model()\n",
    "category = \"Joke\"\n",
    "input_text = \"Maths\"\n",
    "no_words = 100\n",
    "\n",
    "## PromptTemplate\n",
    "template = \"\"\"Write a  {category} on {input_text} in less than {no_words} words\"\"\"\n",
    "\n",
    "prompt = PromptTemplate(input_variables = [\"input_text\", \"no_words\", \"category\"],\n",
    "                        template = template)\n",
    "\n",
    "## Generate the reponse from the LLama 2 Model\n",
    "llm_respone = llm_model(prompt.format(category=category,input_text=input_text,no_words=no_words))\n",
    "print(llm_respone)"
   ]
  }
 ],
 "metadata": {
  "kernelspec": {
   "display_name": ".venv",
   "language": "python",
   "name": "python3"
  },
  "language_info": {
   "codemirror_mode": {
    "name": "ipython",
    "version": 3
   },
   "file_extension": ".py",
   "mimetype": "text/x-python",
   "name": "python",
   "nbconvert_exporter": "python",
   "pygments_lexer": "ipython3",
   "version": "3.9.6"
  }
 },
 "nbformat": 4,
 "nbformat_minor": 2
}
